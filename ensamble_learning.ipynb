{
 "cells": [
  {
   "cell_type": "markdown",
   "id": "441089b5",
   "metadata": {},
   "source": [
    "# majority"
   ]
  },
  {
   "cell_type": "code",
   "execution_count": 1,
   "id": "017db5fd",
   "metadata": {},
   "outputs": [
    {
     "name": "stdout",
     "output_type": "stream",
     "text": [
      "Accuracy of the ensemble: 85.5 %\n"
     ]
    }
   ],
   "source": [
    "from sklearn.ensemble import VotingClassifier\n",
    "from sklearn.linear_model import LogisticRegression\n",
    "from sklearn.tree import DecisionTreeClassifier\n",
    "from sklearn.svm import SVC\n",
    "from sklearn.datasets import make_classification\n",
    "from sklearn.model_selection import train_test_split\n",
    "\n",
    "# Generate a random dataset for classification\n",
    "X, y = make_classification(n_samples=1000, random_state=42)\n",
    "\n",
    "# Split the dataset into training and testing sets\n",
    "X_train, X_test, y_train, y_test = train_test_split(X, y, test_size=0.2, random_state=42)\n",
    "\n",
    "# Define three different models\n",
    "model1 = LogisticRegression(random_state=42)\n",
    "model2 = DecisionTreeClassifier(random_state=42)\n",
    "model3 = SVC(random_state=42, probability=True)\n",
    "\n",
    "# Combine the models using majority voting\n",
    "ensemble = VotingClassifier(estimators=[('lr', model1), ('dt', model2), ('svc', model3)], voting='hard')\n",
    "\n",
    "# Fit the ensemble on the training data\n",
    "ensemble.fit(X_train, y_train)\n",
    "\n",
    "# Evaluate the performance of the ensemble on the testing data\n",
    "print(f\"Accuracy of the ensemble: {ensemble.score(X_test, y_test)*100} %\")"
   ]
  },
  {
   "cell_type": "markdown",
   "id": "94595745",
   "metadata": {},
   "source": [
    "# Stacking"
   ]
  },
  {
   "cell_type": "code",
   "execution_count": 2,
   "id": "f89e61bb",
   "metadata": {},
   "outputs": [
    {
     "name": "stdout",
     "output_type": "stream",
     "text": [
      "Accuracy: 98.67 %\n"
     ]
    },
    {
     "name": "stderr",
     "output_type": "stream",
     "text": [
      "C:\\Users\\Shivam\\anaconda32\\Lib\\site-packages\\sklearn\\linear_model\\_logistic.py:458: ConvergenceWarning: lbfgs failed to converge (status=1):\n",
      "STOP: TOTAL NO. of ITERATIONS REACHED LIMIT.\n",
      "\n",
      "Increase the number of iterations (max_iter) or scale the data as shown in:\n",
      "    https://scikit-learn.org/stable/modules/preprocessing.html\n",
      "Please also refer to the documentation for alternative solver options:\n",
      "    https://scikit-learn.org/stable/modules/linear_model.html#logistic-regression\n",
      "  n_iter_i = _check_optimize_result(\n",
      "C:\\Users\\Shivam\\anaconda32\\Lib\\site-packages\\sklearn\\linear_model\\_logistic.py:458: ConvergenceWarning: lbfgs failed to converge (status=1):\n",
      "STOP: TOTAL NO. of ITERATIONS REACHED LIMIT.\n",
      "\n",
      "Increase the number of iterations (max_iter) or scale the data as shown in:\n",
      "    https://scikit-learn.org/stable/modules/preprocessing.html\n",
      "Please also refer to the documentation for alternative solver options:\n",
      "    https://scikit-learn.org/stable/modules/linear_model.html#logistic-regression\n",
      "  n_iter_i = _check_optimize_result(\n"
     ]
    }
   ],
   "source": [
    "from sklearn.linear_model import LogisticRegression\n",
    "from sklearn.tree import DecisionTreeClassifier\n",
    "from sklearn.neighbors import KNeighborsClassifier\n",
    "from sklearn.ensemble import StackingClassifier\n",
    "from sklearn.datasets import load_iris\n",
    "from sklearn.metrics import accuracy_score\n",
    "\n",
    "# Load data\n",
    "X, y = load_iris(return_X_y=True)\n",
    "\n",
    "# Define models\n",
    "lr = LogisticRegression()\n",
    "dt = DecisionTreeClassifier()\n",
    "knn = KNeighborsClassifier()\n",
    "\n",
    "# Create a stacking ensemble\n",
    "stack = StackingClassifier(estimators=[('lr', lr), ('dt', dt), ('knn', knn)], final_estimator=LogisticRegression())\n",
    "\n",
    "# Fit ensemble on data\n",
    "stack.fit(X, y)\n",
    "\n",
    "# Make predictions\n",
    "y_pred = stack.predict(X)\n",
    "\n",
    "# Evaluate performance\n",
    "acc = accuracy_score(y, y_pred)\n",
    "acc = acc*100\n",
    "print(f'Accuracy: {acc:.2f} %')"
   ]
  },
  {
   "cell_type": "markdown",
   "id": "be1b1b69",
   "metadata": {},
   "source": [
    "# average"
   ]
  },
  {
   "cell_type": "code",
   "execution_count": 3,
   "id": "0d9c89e5",
   "metadata": {},
   "outputs": [
    {
     "name": "stdout",
     "output_type": "stream",
     "text": [
      "MSE: 0.22\n"
     ]
    }
   ],
   "source": [
    "# Import libraries\n",
    "from sklearn.linear_model import LinearRegression\n",
    "from sklearn.tree import DecisionTreeRegressor\n",
    "from sklearn.neighbors import KNeighborsRegressor\n",
    "from sklearn.ensemble import VotingRegressor\n",
    "from sklearn.datasets import fetch_california_housing\n",
    "from sklearn.metrics import mean_squared_error\n",
    "\n",
    "# Load data\n",
    "california = fetch_california_housing(as_frame=True)\n",
    "X = california.data\n",
    "y = california.target\n",
    "\n",
    "# Define models\n",
    "lr = LinearRegression()\n",
    "dt = DecisionTreeRegressor()\n",
    "knn = KNeighborsRegressor()\n",
    "\n",
    "# Create average ensemble\n",
    "avg = VotingRegressor(estimators=[('lr', lr), ('dt', dt), ('knn', knn)])\n",
    "\n",
    "# Fit ensemble on data\n",
    "avg.fit(X, y)\n",
    "\n",
    "# Make predictions\n",
    "y_pred = avg.predict(X)\n",
    "\n",
    "# Evaluate performance\n",
    "mse = mean_squared_error(y, y_pred)\n",
    "print(f'MSE: {mse:.2f}')"
   ]
  },
  {
   "cell_type": "markdown",
   "id": "cc92ee4e",
   "metadata": {},
   "source": [
    "# bagging"
   ]
  },
  {
   "cell_type": "code",
   "execution_count": 8,
   "id": "a2185239",
   "metadata": {},
   "outputs": [
    {
     "name": "stdout",
     "output_type": "stream",
     "text": [
      "Accuracy: 99.33 %\n"
     ]
    },
    {
     "name": "stderr",
     "output_type": "stream",
     "text": [
      "C:\\Users\\Shivam\\anaconda32\\Lib\\site-packages\\sklearn\\ensemble\\_base.py:166: FutureWarning: `base_estimator` was renamed to `estimator` in version 1.2 and will be removed in 1.4.\n",
      "  warnings.warn(\n"
     ]
    }
   ],
   "source": [
    "from sklearn.tree import DecisionTreeClassifier\n",
    "from sklearn.ensemble import BaggingClassifier\n",
    "from sklearn.datasets import load_iris\n",
    "from sklearn.metrics import accuracy_score\n",
    "\n",
    "# Load data\n",
    "X, y = load_iris(return_X_y=True)\n",
    "\n",
    "# Define base model\n",
    "dt = DecisionTreeClassifier()\n",
    "\n",
    "# Create a bagging ensemble\n",
    "bag = BaggingClassifier(base_estimator=dt, n_estimators=10)\n",
    "\n",
    "# Fit ensemble on data\n",
    "bag.fit(X, y)\n",
    "\n",
    "# Make predictions\n",
    "y_pred = bag.predict(X)\n",
    "\n",
    "# Evaluate performance\n",
    "acc = accuracy_score(y, y_pred)\n",
    "acc = acc *100\n",
    "print(f'Accuracy: {acc:.2f} %')"
   ]
  },
  {
   "cell_type": "code",
   "execution_count": 5,
   "id": "284719e9",
   "metadata": {},
   "outputs": [],
   "source": [
    "#boosting"
   ]
  },
  {
   "cell_type": "code",
   "execution_count": 6,
   "id": "0f6b1ed9",
   "metadata": {},
   "outputs": [
    {
     "name": "stdout",
     "output_type": "stream",
     "text": [
      "MSE: 0.00\n"
     ]
    },
    {
     "name": "stderr",
     "output_type": "stream",
     "text": [
      "C:\\Users\\Shivam\\anaconda32\\Lib\\site-packages\\sklearn\\ensemble\\_base.py:166: FutureWarning: `base_estimator` was renamed to `estimator` in version 1.2 and will be removed in 1.4.\n",
      "  warnings.warn(\n"
     ]
    }
   ],
   "source": [
    "from sklearn.tree import DecisionTreeRegressor\n",
    "from sklearn.ensemble import AdaBoostRegressor\n",
    "from sklearn.datasets import load_iris\n",
    "from sklearn.metrics import mean_squared_error\n",
    "\n",
    "# Load data\n",
    "X, y = load_iris(return_X_y=True)\n",
    "\n",
    "# Define base model\n",
    "dt = DecisionTreeRegressor()\n",
    "\n",
    "# Create boosting ensemble\n",
    "boost = AdaBoostRegressor(base_estimator=dt, n_estimators=10)\n",
    "\n",
    "# Fit ensemble on data\n",
    "boost.fit(X, y)\n",
    "\n",
    "# Make predictions\n",
    "y_pred = boost.predict(X)\n",
    "\n",
    "# Evaluate performance\n",
    "mse = mean_squared_error(y, y_pred)\n",
    "print(f'MSE: {mse:.2f}')"
   ]
  },
  {
   "cell_type": "code",
   "execution_count": null,
   "id": "1b1d91db",
   "metadata": {},
   "outputs": [],
   "source": []
  }
 ],
 "metadata": {
  "kernelspec": {
   "display_name": "Python 3 (ipykernel)",
   "language": "python",
   "name": "python3"
  },
  "language_info": {
   "codemirror_mode": {
    "name": "ipython",
    "version": 3
   },
   "file_extension": ".py",
   "mimetype": "text/x-python",
   "name": "python",
   "nbconvert_exporter": "python",
   "pygments_lexer": "ipython3",
   "version": "3.11.3"
  }
 },
 "nbformat": 4,
 "nbformat_minor": 5
}
